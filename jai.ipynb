{
  "nbformat": 4,
  "nbformat_minor": 0,
  "metadata": {
    "colab": {
      "name": "jai.ipynb",
      "provenance": [],
      "collapsed_sections": [],
      "include_colab_link": true
    },
    "kernelspec": {
      "name": "python3",
      "display_name": "Python 3"
    },
    "language_info": {
      "name": "python"
    }
  },
  "cells": [
    {
      "cell_type": "markdown",
      "metadata": {
        "id": "view-in-github",
        "colab_type": "text"
      },
      "source": [
        "<a href=\"https://colab.research.google.com/github/jaichhabra/geekshappiness/blob/jaichhabra-patch-1/jai.ipynb\" target=\"_parent\"><img src=\"https://colab.research.google.com/assets/colab-badge.svg\" alt=\"Open In Colab\"/></a>"
      ]
    },
    {
      "cell_type": "code",
      "metadata": {
        "colab": {
          "base_uri": "https://localhost:8080/"
        },
        "id": "LGBwEoUM8LQS",
        "outputId": "cac320d3-288a-4a6b-da00-ac679a6fc184"
      },
      "source": [
        "def generateKey(string, key):\n",
        "    key = list(key)\n",
        "    if len(string) == len(key):\n",
        "        return(key)\n",
        "    else:\n",
        "        for i in range(len(string) -\n",
        "                       len(key)):\n",
        "            key.append(key[i % len(key)])\n",
        "    return(\"\" . join(key))\n",
        "def cipherText(string, key):\n",
        "    cipher_text = []\n",
        "    for i in range(len(string)):\n",
        "        x = (ord(string[i]) +\n",
        "             ord(key[i])) % 26\n",
        "        x += ord('A')\n",
        "        cipher_text.append(chr(x))\n",
        "    return(\"\" . join(cipher_text))\n",
        "def originalText(cipher_text, key):\n",
        "    orig_text = []\n",
        "    for i in range(len(cipher_text)):\n",
        "        x = (ord(cipher_text[i]) -\n",
        "             ord(key[i]) + 26) % 26\n",
        "        x += ord('A')\n",
        "        orig_text.append(chr(x))\n",
        "    return(\"\" . join(orig_text))\n",
        "if __name__ == \"__main__\":\n",
        "    string = input(\"ENTER MESSAGE: \")\n",
        "    keyword = input(\"ENTER KEY: \")\n",
        "    key = generateKey(string, keyword)\n",
        "    cipher_text = cipherText(string,key)\n",
        "    print(\"Ciphertext :\", cipher_text)\n",
        "    print(\"Original/Decrypted Text :\",\n",
        "           originalText(cipher_text, key))\n",
        " "
      ],
      "execution_count": null,
      "outputs": [
        {
          "output_type": "stream",
          "text": [
            "ENTER MESSAGE: dfgsf\n",
            "ENTER KEY: sdf\n",
            "Ciphertext : HUXWU\n",
            "Original/Decrypted Text : JLMYL\n"
          ],
          "name": "stdout"
        }
      ]
    },
    {
      "cell_type": "code",
      "metadata": {
        "colab": {
          "base_uri": "https://localhost:8080/"
        },
        "id": "bM6C7cr87ooZ",
        "outputId": "fc0c7e11-be57-44ba-9290-bb41356b2e92"
      },
      "source": [
        "import math\n",
        "text = input(\"Message \")\n",
        "key = input(\"Key\")\n",
        "def encryptMessage(text):\n",
        "    cipher = \"\"\n",
        "    iklautaindex = 0\n",
        "    text_len = float(len(text))\n",
        "    text_lst = list(text)\n",
        "    key_lst = sorted(list(key))\n",
        "    col = len(key)\n",
        "    row = int(math.ceil(text_len / col))\n",
        "    fill_null = int((row * col) - text_len)\n",
        "    text_lst.extend('_' * fill_null)\n",
        "    matrix = [text_lst[i: i + col] \n",
        "              for i in range(0, len(text_lst), col)]\n",
        "    for _ in range(col):\n",
        "        curr_idx = key.index(key_lst[iklautaindex])\n",
        "        cipher += ''.join([row[curr_idx] \n",
        "                          for row in matrix])\n",
        "        iklautaindex += 1\n",
        "    return cipher\n",
        "def decryptMessage(cipher):\n",
        "    text = \"\"\n",
        "    iklautaindex = 0\n",
        "    text_indx = 0\n",
        "    text_len = float(len(cipher))\n",
        "    text_lst = list(cipher)\n",
        "    col = len(key)\n",
        "    row = int(math.ceil(text_len / col))\n",
        "    key_lst = sorted(list(key))\n",
        "    dec_cipher = []\n",
        "    for _ in range(row):\n",
        "        dec_cipher += [[None] * col]\n",
        "    for _ in range(col):\n",
        "        curr_idx = key.index(key_lst[iklautaindex])\n",
        "  \n",
        "        for j in range(row):\n",
        "            dec_cipher[j][curr_idx] = text_lst[text_indx]\n",
        "            text_indx += 1\n",
        "        iklautaindex += 1\n",
        "    try:\n",
        "        text = ''.join(sum(dec_cipher, []))\n",
        "    except TypeError:\n",
        "        raise TypeError(\"rwe\",\"rwe\")\n",
        "    null_count = text.count('_')\n",
        "    if null_count > 0:\n",
        "        return text[: -null_count]\n",
        "    return text\n",
        "cipher = encryptMessage(text)\n",
        "print(\"Encrypted Message: {}\".\n",
        "               format(cipher))\n",
        "print(\"Decryped Message: {}\".\n",
        "       format(decryptMessage(cipher)))\n",
        "  "
      ],
      "execution_count": null,
      "outputs": [
        {
          "output_type": "stream",
          "text": [
            "Message asd\n",
            "Keyasd\n",
            "Encrypted Message: ads\n",
            "Decryped Message: asd\n"
          ],
          "name": "stdout"
        }
      ]
    },
    {
      "cell_type": "code",
      "metadata": {
        "colab": {
          "base_uri": "https://localhost:8080/"
        },
        "id": "wfBQDB3K-7LS",
        "outputId": "41481f83-4a58-4404-d639-5055c43f9a73"
      },
      "source": [
        "from cryptography.fernet import Fernet, MultiFernet\n",
        "key1 = Fernet(Fernet.generate_key())\n",
        "key2 = Fernet(Fernet.generate_key())\n",
        "Multikey = MultiFernet([key1, key2])\n",
        "message = \"HELLO SIR\"\n",
        "bitMessage= bytes(message, 'utf-8')\n",
        "encode = Multikey.encrypt(bitMessage)\n",
        "print(\"The encrypted:\\n\",encode)\n",
        "print(\"\\n\")\n",
        "decode = Multikey.decrypt(encode)\n",
        "print(\"The decrypted :\\n\",decode)"
      ],
      "execution_count": null,
      "outputs": [
        {
          "output_type": "stream",
          "text": [
            "The encrypted:\n",
            " b'gAAAAABhJz3XcKtJN5U3CGLyNlifONzLCZ4ZQnczILN9iQEfd82gSnCn4kpot-RX8ZAIldPny1_4PkbZ6HXtgVMszB2vJxoNFg=='\n",
            "\n",
            "\n",
            "The decrypted :\n",
            " b'HELLO SIR'\n"
          ],
          "name": "stdout"
        }
      ]
    },
    {
      "cell_type": "code",
      "metadata": {
        "id": "HQq_XUeM97l7"
      },
      "source": [
        "!pip install cryptography\n",
        "from cryptography.fernet import Fernet\n",
        "key = Fernet.generate_key()\n",
        "with open('filekey.key', 'wb') as filekey:\n",
        "  filekey.write(key)\n",
        "print(str(key))\n",
        "with open('filekey.key', 'rb') as filekey:\n",
        "  key = filekey.read()\n",
        "fernet = Fernet(key)\n",
        "with open('answer.csv', 'rb') as file:\n",
        "    original = file.read()\n",
        "encrypted = fernet.encrypt(original)\n",
        "with open('questions.csv', 'wb') as encrypted_file:\n",
        "    encrypted_file.write(encrypted)"
      ],
      "execution_count": null,
      "outputs": []
    },
    {
      "cell_type": "code",
      "metadata": {
        "id": "ZN78cOdNAQN0"
      },
      "source": [
        ""
      ],
      "execution_count": null,
      "outputs": []
    }
  ]
}